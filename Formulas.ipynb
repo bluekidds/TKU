{
 "cells": [
  {
   "cell_type": "markdown",
   "metadata": {},
   "source": [
    "$$ \\hat{y} = W^{T}x + b $$"
   ]
  },
  {
   "cell_type": "markdown",
   "metadata": {},
   "source": [
    "$$ sigmoid(x) = \\frac{1}{1+e^{-x}} $$\n",
    "$$ relu(x) = max(x, 0)$$\n",
    "$$ tanh(x) = \\frac{e^x – e^{-x}}{e^x + e^{-x}} $$\n"
   ]
  },
  {
   "cell_type": "markdown",
   "metadata": {},
   "source": [
    "$$ Loss = dist(\\hat{y}, target) $$\n",
    "\n",
    "$$\\begin{align*} & L_1(\\hat{y}, y) = \\sum_{i=0}^m|y^{(i)} - \\hat{y}^{(i)}| \\end{align*}$$\n",
    "\n",
    "$$\\begin{align*} & L_2(\\hat{y},y) = \\sum_{i=0}^m(y^{(i)} - \\hat{y}^{(i)})^2 \\end{align*}$$\n",
    "\n",
    "$$ CEE_{y'} (y) := - \\sum_{i} y_{i}' \\log (y_i) $$"
   ]
  },
  {
   "cell_type": "markdown",
   "metadata": {},
   "source": [
    "$$ C = \\frac{1}{m}\\sum_{m}{Loss}$$\n",
    "\n",
    "$$ g(\\rho(z)) = \\rho(z)(1-\\rho(z)) $$\n",
    "$$ g(tanh(z)) = 1 - tanh(z)^2$$\n",
    "\n",
    "$$ W = W - \\alpha * \\frac{dE}{dW} $$\n"
   ]
  },
  {
   "cell_type": "code",
   "execution_count": null,
   "metadata": {
    "collapsed": true
   },
   "outputs": [],
   "source": []
  }
 ],
 "metadata": {
  "anaconda-cloud": {},
  "kernelspec": {
   "display_name": "CV Kernel",
   "language": "python",
   "name": "cv_kernel"
  },
  "language_info": {
   "codemirror_mode": {
    "name": "ipython",
    "version": 2
   },
   "file_extension": ".py",
   "mimetype": "text/x-python",
   "name": "python",
   "nbconvert_exporter": "python",
   "pygments_lexer": "ipython2",
   "version": "2.7.12"
  }
 },
 "nbformat": 4,
 "nbformat_minor": 1
}
